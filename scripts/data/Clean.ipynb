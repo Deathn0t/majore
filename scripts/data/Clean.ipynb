{
 "cells": [
  {
   "cell_type": "code",
   "execution_count": 1,
   "metadata": {},
   "outputs": [],
   "source": [
    "%load_ext autoreload\n",
    "%autoreload 2"
   ]
  },
  {
   "cell_type": "code",
   "execution_count": 2,
   "metadata": {},
   "outputs": [],
   "source": [
    "import os\n",
    "import io\n",
    "import re\n",
    "import glob\n",
    "import numpy as np\n",
    "\n",
    "import torch\n",
    "import torch.nn as nn\n",
    "from torch.utils.data import Dataset, DataLoader\n",
    "\n",
    "from pprint import pprint, pformat\n",
    "from IPython.display import display, Markdown, Latex\n",
    "\n",
    "from load_audio import  AudioFeatureDataset\n",
    "from load_text import TextDataset\n",
    "from load_video import VideoDataset\n",
    "from load_multimodal_data import MultimodalDataset\n",
    "\n",
    "from position_encoder import PositionalEncoding\n",
    "\n",
    "from encoders import AudioEncoder, VideoEncoder, DotProductAttention\n",
    "\n",
    "from decoder import MultimodalDecoder\n",
    "from tqdm import tqdm\n"
   ]
  },
  {
   "cell_type": "code",
   "execution_count": 3,
   "metadata": {},
   "outputs": [],
   "source": [
    "path_how2 = \"/Volumes/LaCie/vision/data/\" # Jeremy\n",
    "#path_how2 = \"/Volumes/T7/data/\" # Romain\n",
    "\n",
    "video_path = os.path.join(path_how2, \"resnext101-action-avgpool-300h\", \"train.npy\")\n",
    "\n",
    "texts_path = os.path.join(path_how2,\"how2-300h-v1/data/train\", \"text.en\")\n",
    "embeddings_path = os.path.join(path_how2, \"how2-release/word_embedding/\",\"cmu_partition.train.vec\")"
   ]
  },
  {
   "cell_type": "code",
   "execution_count": 4,
   "metadata": {},
   "outputs": [
    {
     "name": "stderr",
     "output_type": "stream",
     "text": [
      "/Volumes/LaCie/vision/majore/scripts/data/load_text.py:88: VisibleDeprecationWarning: Creating an ndarray from ragged nested sequences (which is a list-or-tuple of lists-or-tuples-or ndarrays with different lengths or shapes) is deprecated. If you meant to do this, you must specify 'dtype=object' when creating the ndarray\n",
      "  return  np.array(text), np.array(splitted), largest_split\n"
     ]
    },
    {
     "name": "stdout",
     "output_type": "stream",
     "text": [
      "184949 184949 184949\n"
     ]
    }
   ],
   "source": [
    "video_dataset = VideoDataset(video_path)\n",
    "audio_dataset = AudioFeatureDataset(path_how2,\"train\")\n",
    "text_dataset = TextDataset(texts_path, embeddings_path)\n",
    "\n",
    "print(len(video_dataset),len(audio_dataset),len(text_dataset))"
   ]
  },
  {
   "cell_type": "code",
   "execution_count": 5,
   "metadata": {},
   "outputs": [],
   "source": [
    "vocab_id_dict = text_dataset.vocab_id_dict\n",
    "id_vocab_dict = text_dataset.id_vocab_dict\n",
    "vocab_emb_dict = text_dataset.vocab_emb_dict"
   ]
  },
  {
   "cell_type": "code",
   "execution_count": 6,
   "metadata": {},
   "outputs": [
    {
     "data": {
      "text/plain": [
       "(36756, 36756, 36756)"
      ]
     },
     "execution_count": 6,
     "metadata": {},
     "output_type": "execute_result"
    }
   ],
   "source": [
    "len(vocab_emb_dict), len(id_vocab_dict), len(vocab_emb_dict)"
   ]
  },
  {
   "cell_type": "code",
   "execution_count": 7,
   "metadata": {},
   "outputs": [],
   "source": [
    "multimodal_dataset = MultimodalDataset(video_dataset, audio_dataset, text_dataset)\n",
    "dataloader = DataLoader(multimodal_dataset, batch_size=4, shuffle=True, num_workers=0)"
   ]
  },
  {
   "cell_type": "code",
   "execution_count": 8,
   "metadata": {},
   "outputs": [
    {
     "name": "stdout",
     "output_type": "stream",
     "text": [
      "torch.Size([4, 2048])\n",
      "torch.Size([4, 10810, 43])\n",
      "torch.Size([4, 225, 100])\n",
      "torch.Size([4, 225, 1])\n"
     ]
    }
   ],
   "source": [
    "for batch in dataloader:\n",
    "    \n",
    "    print(batch[\"video\"][\"video\"].shape)\n",
    "    print(batch[\"audio\"].shape)\n",
    "    print(batch[\"text\"][\"embedding\"].shape)\n",
    "    print(batch[\"text\"][\"id_embedding\"].shape)\n",
    "    break"
   ]
  },
  {
   "cell_type": "code",
   "execution_count": 9,
   "metadata": {},
   "outputs": [
    {
     "ename": "NameError",
     "evalue": "name 'linear_output' is not defined",
     "output_type": "error",
     "traceback": [
      "\u001b[0;31m---------------------------------------------------------------------------\u001b[0m",
      "\u001b[0;31mNameError\u001b[0m                                 Traceback (most recent call last)",
      "\u001b[0;32m<ipython-input-9-293cf511743c>\u001b[0m in \u001b[0;36m<module>\u001b[0;34m\u001b[0m\n\u001b[1;32m     20\u001b[0m                              \u001b[0md_feedforward\u001b[0m\u001b[0;34m,\u001b[0m\u001b[0;34m\u001b[0m\u001b[0;34m\u001b[0m\u001b[0m\n\u001b[1;32m     21\u001b[0m                              \u001b[0mdropout\u001b[0m\u001b[0;34m,\u001b[0m\u001b[0;34m\u001b[0m\u001b[0;34m\u001b[0m\u001b[0m\n\u001b[0;32m---> 22\u001b[0;31m                              down_sampling_factor)\n\u001b[0m\u001b[1;32m     23\u001b[0m \u001b[0;34m\u001b[0m\u001b[0m\n\u001b[1;32m     24\u001b[0m video_encoder = VideoEncoder(video_dim,\n",
      "\u001b[0;32m/Volumes/LaCie/vision/majore/scripts/data/encoders.py\u001b[0m in \u001b[0;36m__init__\u001b[0;34m(self, audio_dim, audio_size, tied_output, nhead, nlayer, d_model, d_feedforward, dropout, down_sampling_factor)\u001b[0m\n\u001b[1;32m     11\u001b[0m         \u001b[0msuper\u001b[0m\u001b[0;34m(\u001b[0m\u001b[0mAudioEncoder\u001b[0m\u001b[0;34m,\u001b[0m \u001b[0mself\u001b[0m\u001b[0;34m)\u001b[0m\u001b[0;34m.\u001b[0m\u001b[0m__init__\u001b[0m\u001b[0;34m(\u001b[0m\u001b[0;34m)\u001b[0m\u001b[0;34m\u001b[0m\u001b[0;34m\u001b[0m\u001b[0m\n\u001b[1;32m     12\u001b[0m \u001b[0;34m\u001b[0m\u001b[0m\n\u001b[0;32m---> 13\u001b[0;31m         \u001b[0mself\u001b[0m\u001b[0;34m.\u001b[0m\u001b[0mfc1\u001b[0m \u001b[0;34m=\u001b[0m \u001b[0mnn\u001b[0m\u001b[0;34m.\u001b[0m\u001b[0mLinear\u001b[0m\u001b[0;34m(\u001b[0m\u001b[0maudio_dim\u001b[0m\u001b[0;34m,\u001b[0m \u001b[0mlinear_output\u001b[0m\u001b[0;34m)\u001b[0m\u001b[0;34m\u001b[0m\u001b[0;34m\u001b[0m\u001b[0m\n\u001b[0m\u001b[1;32m     14\u001b[0m \u001b[0;34m\u001b[0m\u001b[0m\n\u001b[1;32m     15\u001b[0m         \u001b[0mself\u001b[0m\u001b[0;34m.\u001b[0m\u001b[0mpos_enc\u001b[0m \u001b[0;34m=\u001b[0m \u001b[0mPositionalEncoding\u001b[0m\u001b[0;34m(\u001b[0m\u001b[0md_model\u001b[0m \u001b[0;34m=\u001b[0m \u001b[0mlinear_output\u001b[0m\u001b[0;34m,\u001b[0m \u001b[0mmax_len\u001b[0m \u001b[0;34m=\u001b[0m \u001b[0maudio_size\u001b[0m\u001b[0;34m,\u001b[0m \u001b[0mdropout\u001b[0m \u001b[0;34m=\u001b[0m \u001b[0mdropout\u001b[0m\u001b[0;34m)\u001b[0m\u001b[0;34m\u001b[0m\u001b[0;34m\u001b[0m\u001b[0m\n",
      "\u001b[0;31mNameError\u001b[0m: name 'linear_output' is not defined"
     ]
    }
   ],
   "source": [
    "d_model = 480\n",
    "d_feedforward = 1920\n",
    "dropout = 0.2\n",
    "nhead = 6\n",
    "nlayer_audio = 6\n",
    "nlayer_video = 1\n",
    "\n",
    "video_dim = 2048\n",
    "audio_size = 10810\n",
    "audio_dim = 43\n",
    "tied = 48\n",
    "down_sampling_factor = 10\n",
    "\n",
    "audio_encoder = AudioEncoder(audio_dim,\n",
    "                             audio_size,\n",
    "                             tied,\n",
    "                             nhead,\n",
    "                             nlayer_audio,\n",
    "                             d_model,\n",
    "                             d_feedforward,\n",
    "                             dropout,\n",
    "                             down_sampling_factor)\n",
    "\n",
    "video_encoder = VideoEncoder(video_dim,\n",
    "                             nhead,\n",
    "                             nlayer_video,\n",
    "                             d_model,\n",
    "                             d_feedforward,\n",
    "                             dropout)\n",
    "\n",
    "dot_product_attention = DotProductAttention(d_model, 480, 480)"
   ]
  },
  {
   "cell_type": "code",
   "execution_count": null,
   "metadata": {},
   "outputs": [],
   "source": [
    "batch1 = next(iter(dataloader))\n",
    "audio = batch1[\"audio\"].float()\n",
    "video = batch1[\"video\"][\"video\"].unsqueeze(1).float()\n",
    "text = batch1[\"text\"][\"embedding\"].float()"
   ]
  },
  {
   "cell_type": "code",
   "execution_count": null,
   "metadata": {},
   "outputs": [],
   "source": [
    "out_audio = audio_encoder(audio)\n",
    "out_video = video_encoder(video)\n",
    "output_encoder = dot_product_attention.forward(out_audio, out_video, out_video)\n",
    "\n",
    "print(out_audio.shape)\n",
    "print(out_video.shape)\n",
    "print(output_encoder.shape)"
   ]
  },
  {
   "cell_type": "code",
   "execution_count": null,
   "metadata": {},
   "outputs": [],
   "source": [
    "print(\"VIDEO\")\n",
    "print(\" IN:  \", tuple(video.size()))\n",
    "print(\" OUT: \", tuple(out_video.size()))\n",
    "print()\n",
    "print(\"AUDIO\")\n",
    "print(\" IN:  \", tuple(audio.size()))\n",
    "print(\" OUT: \", tuple(out_audio.size()))\n",
    "print()\n",
    "print(\"FUSION\")\n",
    "print(\" OUT: \", tuple(output_encoder.size()))"
   ]
  },
  {
   "cell_type": "code",
   "execution_count": null,
   "metadata": {},
   "outputs": [],
   "source": [
    "text_dim = 100\n",
    "text_size = 225\n",
    "vocab_size = len(vocab_id_dict)\n",
    "n_layer = 4\n",
    "d_model = 480\n",
    "d_feedforward = 1920\n",
    "dropout = 0.2\n",
    "nhead = 6\n",
    "\n",
    "decoder = MultimodalDecoder(text_dim, text_size, vocab_size, nhead,  n_layer, d_model, d_feedforward, dropout)"
   ]
  },
  {
   "cell_type": "code",
   "execution_count": null,
   "metadata": {},
   "outputs": [],
   "source": [
    "mask = decoder.generate_square_subsequent_mask(text_size)\n",
    "decoded = decoder(text, output_encoder, tgt_mask = mask)"
   ]
  },
  {
   "cell_type": "code",
   "execution_count": null,
   "metadata": {},
   "outputs": [],
   "source": [
    "decoded.shape"
   ]
  },
  {
   "cell_type": "code",
   "execution_count": null,
   "metadata": {},
   "outputs": [],
   "source": []
  }
 ],
 "metadata": {
  "kernelspec": {
   "display_name": "Python 3",
   "language": "python",
   "name": "python3"
  },
  "language_info": {
   "codemirror_mode": {
    "name": "ipython",
    "version": 3
   },
   "file_extension": ".py",
   "mimetype": "text/x-python",
   "name": "python",
   "nbconvert_exporter": "python",
   "pygments_lexer": "ipython3",
   "version": "3.7.9"
  }
 },
 "nbformat": 4,
 "nbformat_minor": 4
}
