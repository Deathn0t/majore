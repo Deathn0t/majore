{
 "cells": [
  {
   "cell_type": "code",
   "execution_count": 1,
   "metadata": {
    "ExecuteTime": {
     "end_time": "2020-12-13T18:24:32.419606Z",
     "start_time": "2020-12-13T18:24:32.405930Z"
    }
   },
   "outputs": [],
   "source": [
    "%load_ext autoreload\n",
    "%autoreload 2"
   ]
  },
  {
   "cell_type": "code",
   "execution_count": null,
   "metadata": {},
   "outputs": [],
   "source": [
    "from google.colab import drive \n",
    "drive.mount('/content/drive')"
   ]
  },
  {
   "cell_type": "code",
   "execution_count": null,
   "metadata": {},
   "outputs": [],
   "source": [
    "import pprint\n",
    "\n",
    "# PATH = '/content/drive/MyDrive/INF634Project' # Martin\n",
    "PATH = '/content/drive/MyDrive/Colab Notebooks/INF634Project' # Romain\n",
    "DATA_RELPATH = './data/how2-dataset'\n",
    "\n",
    "%cd $PATH\n",
    "print('Notebook running on', PATH)\n",
    "print(os.listdir())"
   ]
  },
  {
   "cell_type": "code",
   "execution_count": null,
   "metadata": {},
   "outputs": [],
   "source": [
    "!rm -rf majore/"
   ]
  },
  {
   "cell_type": "code",
   "execution_count": null,
   "metadata": {},
   "outputs": [],
   "source": [
    "!git clone https://github.com/Deathn0t/majore.git majore"
   ]
  },
  {
   "cell_type": "code",
   "execution_count": 8,
   "metadata": {
    "ExecuteTime": {
     "end_time": "2020-12-13T18:25:03.347444Z",
     "start_time": "2020-12-13T18:25:03.001918Z"
    }
   },
   "outputs": [],
   "source": [
    "import os\n",
    "import io\n",
    "import re\n",
    "import glob\n",
    "from pprint import pprint, pformat\n",
    "\n",
    "import numpy as np\n",
    "import torch\n",
    "import torch.nn as nn\n",
    "from torch.utils.data import Dataset, DataLoader\n",
    "from IPython.display import display, Markdown, Latex\n",
    "from tqdm import tqdm\n",
    "\n",
    "from scripts.load_audio_v1 import  AudioFeatureDataset\n",
    "from scripts.load_text import TextDataset\n",
    "from scripts.load_video import VideoDataset\n",
    "from scripts.load_multimodal_data import MultimodalDataset\n",
    "from scripts.position_encoder import PositionalEncoding\n",
    "from scripts.encoders import AudioEncoder, VideoEncoder, DotProductAttention\n",
    "from scripts.decoder import MultimodalDecoder"
   ]
  },
  {
   "cell_type": "code",
   "execution_count": 3,
   "metadata": {
    "ExecuteTime": {
     "end_time": "2020-12-13T18:24:35.796805Z",
     "start_time": "2020-12-13T18:24:35.776578Z"
    }
   },
   "outputs": [
    {
     "name": "stdout",
     "output_type": "stream",
     "text": [
      "Running on the CPU\n"
     ]
    }
   ],
   "source": [
    "if torch.cuda.is_available():\n",
    "    device = torch.device(\"cuda:0\")  # you can continue going on here, like cuda:1 cuda:2....etc. \n",
    "    print(\"Running on the GPU\")\n",
    "else:\n",
    "    device = torch.device(\"cpu\")\n",
    "    print(\"Running on the CPU\")"
   ]
  },
  {
   "cell_type": "code",
   "execution_count": 4,
   "metadata": {
    "ExecuteTime": {
     "end_time": "2020-12-13T18:24:35.817593Z",
     "start_time": "2020-12-13T18:24:35.799055Z"
    }
   },
   "outputs": [],
   "source": [
    "# path_how2 = \"/Volumes/LaCie/vision/data/\" # Jeremy\n",
    "path_how2 = \"/Volumes/T7/data/\" # Romain\n",
    "\n",
    "video_path = os.path.join(path_how2, \"resnext101-action-avgpool-300h\", \"train.npy\")\n",
    "\n",
    "texts_path = os.path.join(path_how2,\"how2-300h-v1/data/train\", \"text.en\")\n",
    "embeddings_path = os.path.join(path_how2, \"how2-release/word_embedding/\",\"cmu_partition.train.vec\")"
   ]
  },
  {
   "cell_type": "code",
   "execution_count": 5,
   "metadata": {
    "ExecuteTime": {
     "end_time": "2020-12-13T18:24:46.651275Z",
     "start_time": "2020-12-13T18:24:35.822804Z"
    }
   },
   "outputs": [
    {
     "name": "stderr",
     "output_type": "stream",
     "text": [
      "/Users/romainegele/Documents/lX/2020-2021/s1/INF634-Computer-Vision/project/majore/notebooks/scripts/load_text.py:88: VisibleDeprecationWarning: Creating an ndarray from ragged nested sequences (which is a list-or-tuple of lists-or-tuples-or ndarrays with different lengths or shapes) is deprecated. If you meant to do this, you must specify 'dtype=object' when creating the ndarray\n",
      "  return  np.array(text), np.array(splitted), largest_split\n"
     ]
    },
    {
     "name": "stdout",
     "output_type": "stream",
     "text": [
      "Len Video:  184949\n",
      "Len Audio:  184949\n",
      "Len Text:  184949\n",
      "\n",
      "Len Multimodal:  184949\n"
     ]
    }
   ],
   "source": [
    "video_dataset = VideoDataset(video_path)\n",
    "audio_dataset = AudioFeatureDataset(path_how2,\"train\")\n",
    "text_dataset = TextDataset(texts_path, embeddings_path)\n",
    "\n",
    "print(\"Len Video: \", len(video_dataset))\n",
    "print(\"Len Audio: \", len(audio_dataset))\n",
    "print(\"Len Text: \", len(text_dataset))\n",
    "\n",
    "multimodal_dataset = MultimodalDataset(video_dataset, audio_dataset, text_dataset)\n",
    "\n",
    "print(\"\\nLen Multimodal: \", len(multimodal_dataset))"
   ]
  },
  {
   "cell_type": "code",
   "execution_count": 13,
   "metadata": {
    "ExecuteTime": {
     "end_time": "2020-12-13T18:27:54.613751Z",
     "start_time": "2020-12-13T18:27:54.589042Z"
    }
   },
   "outputs": [],
   "source": [
    "class Net(nn.Module):\n",
    "    def __init__(self, vocab_size, text_size=225):\n",
    "        super().__init__()\n",
    "        \n",
    "        \n",
    "        dropout = 0.2\n",
    "        nhead = 6\n",
    "        nlayer_audio = 3\n",
    "        nlayer_video = 1\n",
    "\n",
    "        video_dim = 2048\n",
    "        audio_feature_size = 43\n",
    "        audio_seq_len = 1895\n",
    "        tied_output = 96\n",
    "        down_sampling_factor = 5\n",
    "\n",
    "        self.audio_encoder = AudioEncoder(\n",
    "            audio_feature_size,\n",
    "            audio_seq_len,\n",
    "            tied_output,\n",
    "            nhead,\n",
    "            nlayer_audio,\n",
    "            d_feedforward=480,\n",
    "            dropout=dropout,\n",
    "            down_sampling_factor=down_sampling_factor\n",
    "        )\n",
    "\n",
    "        self.video_encoder = VideoEncoder(\n",
    "            video_dim,\n",
    "            nhead,\n",
    "            nlayer_video,\n",
    "            d_model=480,\n",
    "            d_feedforward=480,\n",
    "            dropout=dropout\n",
    "        )\n",
    "\n",
    "        self.fusion = DotProductAttention(d_model, 480, 480)\n",
    "        \n",
    "        text_dim = 100\n",
    "        self.text_size = text_size\n",
    "        n_layer = 4\n",
    "        d_model = 480\n",
    "        d_feedforward = 1920\n",
    "        dropout = 0.2\n",
    "        nhead = 6\n",
    "\n",
    "        self.decoder = MultimodalDecoder(\n",
    "            text_dim, self.text_size, vocab_size, nhead,  n_layer, d_model, d_feedforward, dropout\n",
    "        )\n",
    "        \n",
    "    def forward(self, video, audio, text):\n",
    "        audio_encoding = self.audio_encoder(audio)\n",
    "        video_encoding = self.video_encoder(video)\n",
    "        merge_encoding = self.fusion(audio_encoding, video_encoding, video_encoding)\n",
    "        mask = self.decoder.generate_square_subsequent_mask(self.text_size)\n",
    "        decoded = self.decoder(text, merge_encoding, tgt_mask=mask)\n",
    "        return decoded"
   ]
  },
  {
   "cell_type": "code",
   "execution_count": 14,
   "metadata": {
    "ExecuteTime": {
     "end_time": "2020-12-13T18:27:55.670480Z",
     "start_time": "2020-12-13T18:27:55.612803Z"
    }
   },
   "outputs": [
    {
     "ename": "UnboundLocalError",
     "evalue": "local variable 'd_model' referenced before assignment",
     "output_type": "error",
     "traceback": [
      "\u001b[0;31m---------------------------------------------------------------------------\u001b[0m",
      "\u001b[0;31mUnboundLocalError\u001b[0m                         Traceback (most recent call last)",
      "\u001b[0;32m<ipython-input-14-fe75fb3b3dc3>\u001b[0m in \u001b[0;36m<module>\u001b[0;34m\u001b[0m\n\u001b[1;32m      3\u001b[0m \u001b[0;34m\u001b[0m\u001b[0m\n\u001b[1;32m      4\u001b[0m \u001b[0mvocab_size\u001b[0m \u001b[0;34m=\u001b[0m \u001b[0mlen\u001b[0m\u001b[0;34m(\u001b[0m\u001b[0mword2id\u001b[0m\u001b[0;34m)\u001b[0m\u001b[0;34m\u001b[0m\u001b[0;34m\u001b[0m\u001b[0m\n\u001b[0;32m----> 5\u001b[0;31m \u001b[0mnet\u001b[0m \u001b[0;34m=\u001b[0m \u001b[0mNet\u001b[0m\u001b[0;34m(\u001b[0m\u001b[0mvocab_size\u001b[0m\u001b[0;34m)\u001b[0m\u001b[0;34m.\u001b[0m\u001b[0mto\u001b[0m\u001b[0;34m(\u001b[0m\u001b[0mdevice\u001b[0m\u001b[0;34m)\u001b[0m\u001b[0;34m\u001b[0m\u001b[0;34m\u001b[0m\u001b[0m\n\u001b[0m",
      "\u001b[0;32m<ipython-input-13-da75530629e3>\u001b[0m in \u001b[0;36m__init__\u001b[0;34m(self, vocab_size, text_size)\u001b[0m\n\u001b[1;32m     35\u001b[0m         )\n\u001b[1;32m     36\u001b[0m \u001b[0;34m\u001b[0m\u001b[0m\n\u001b[0;32m---> 37\u001b[0;31m         \u001b[0mself\u001b[0m\u001b[0;34m.\u001b[0m\u001b[0mfusion\u001b[0m \u001b[0;34m=\u001b[0m \u001b[0mDotProductAttention\u001b[0m\u001b[0;34m(\u001b[0m\u001b[0md_model\u001b[0m\u001b[0;34m,\u001b[0m \u001b[0;36m480\u001b[0m\u001b[0;34m,\u001b[0m \u001b[0;36m480\u001b[0m\u001b[0;34m)\u001b[0m\u001b[0;34m\u001b[0m\u001b[0;34m\u001b[0m\u001b[0m\n\u001b[0m\u001b[1;32m     38\u001b[0m \u001b[0;34m\u001b[0m\u001b[0m\n\u001b[1;32m     39\u001b[0m         \u001b[0mtext_dim\u001b[0m \u001b[0;34m=\u001b[0m \u001b[0;36m100\u001b[0m\u001b[0;34m\u001b[0m\u001b[0;34m\u001b[0m\u001b[0m\n",
      "\u001b[0;31mUnboundLocalError\u001b[0m: local variable 'd_model' referenced before assignment"
     ]
    }
   ],
   "source": [
    "word2id= text_dataset.vocab_id_dict\n",
    "id2word = text_dataset.id_vocab_dict\n",
    "\n",
    "vocab_size = len(word2id)\n",
    "net = Net(vocab_size).to(device)"
   ]
  },
  {
   "cell_type": "code",
   "execution_count": 15,
   "metadata": {
    "ExecuteTime": {
     "end_time": "2020-12-13T18:27:56.320704Z",
     "start_time": "2020-12-13T18:27:56.256736Z"
    }
   },
   "outputs": [],
   "source": [
    "def process_batch(batch):\n",
    "    audio = batch[\"audio\"].float()\n",
    "    video = batch[\"video\"][\"video\"].unsqueeze(1).float()\n",
    "    text_emb = batch[\"text\"][\"embedding\"].float()\n",
    "    text_id = batch[\"text\"][\"id_embedding\"].long()\n",
    "    \n",
    "    return video, audio, text_emb, text_id\n",
    "\n",
    "optimizer = torch.optim.Adam(net.parameters(), lr=0.001)\n",
    "criterion = torch.nn.CrossEntropyLoss() # includes softmax\n",
    "\n",
    "loss_hist = []\n",
    "\n",
    "def train(net):\n",
    "    global loss_hist\n",
    "    \n",
    "    BATCH_SIZE = 10\n",
    "    EPOCHS = 1\n",
    "    \n",
    "    dataloader = DataLoader(multimodal_dataset, batch_size=BATCH_SIZE, shuffle=True, num_workers=0)\n",
    "    \n",
    "    loss_hist = []\n",
    "    \n",
    "    for epoch in range(EPOCHS):\n",
    "        print(f\"Epoch {epoch}\")\n",
    "        \n",
    "        loss_hist_epoch = []\n",
    "        \n",
    "        for batch in tqdm(dataloader):\n",
    "            \n",
    "            video, audio, text_emb, text_id = process_batch(batch)\n",
    "            \n",
    "            audio = audio.to(device)\n",
    "            video = video.to(device)\n",
    "            text_emb = text_emb.to(device)\n",
    "            text_id = text_id.to(device)\n",
    "            \n",
    "            net.zero_grad()\n",
    "            \n",
    "            output = net(video, audio, text_emb)\n",
    "             # out is of shape [225, 4, 36756] => now of shape [4, 225, 36756]\n",
    "            output = torch.transpose(output, 0, 1).reshape(-1, vocab_size)\n",
    "            \n",
    "            target = text_id.view(-1).long()\n",
    "            loss = criterion(output,target)\n",
    "\n",
    "            loss.backward()\n",
    "            optimizer.step()\n",
    "            \n",
    "            loss_hist_epoch.append(loss.item())\n",
    "            print(loss_hist_epoch[-1])\n",
    "            \n",
    "        loss_hist.append(loss_hist_epoch)\n",
    "        break"
   ]
  },
  {
   "cell_type": "code",
   "execution_count": 16,
   "metadata": {
    "ExecuteTime": {
     "end_time": "2020-12-13T18:28:32.802891Z",
     "start_time": "2020-12-13T18:27:56.974183Z"
    },
    "scrolled": false
   },
   "outputs": [
    {
     "name": "stderr",
     "output_type": "stream",
     "text": [
      "\r",
      "  0%|          | 0/18495 [00:00<?, ?it/s]"
     ]
    },
    {
     "name": "stdout",
     "output_type": "stream",
     "text": [
      "Epoch 0\n",
      "torch.Size([379, 10, 480])\n",
      "torch.Size([379, 10, 480])\n"
     ]
    },
    {
     "name": "stderr",
     "output_type": "stream",
     "text": [
      "\r",
      "  0%|          | 1/18495 [00:12<62:21:06, 12.14s/it]"
     ]
    },
    {
     "name": "stdout",
     "output_type": "stream",
     "text": [
      "1.9464263916015625\n",
      "torch.Size([379, 10, 480])\n",
      "torch.Size([379, 10, 480])\n"
     ]
    },
    {
     "name": "stderr",
     "output_type": "stream",
     "text": [
      "\r",
      "  0%|          | 2/18495 [00:24<62:14:57, 12.12s/it]"
     ]
    },
    {
     "name": "stdout",
     "output_type": "stream",
     "text": [
      "1.3215463161468506\n",
      "torch.Size([379, 10, 480])\n",
      "torch.Size([379, 10, 480])\n"
     ]
    },
    {
     "name": "stderr",
     "output_type": "stream",
     "text": [
      "  0%|          | 2/18495 [00:35<91:56:09, 17.90s/it]\n"
     ]
    },
    {
     "ename": "KeyboardInterrupt",
     "evalue": "",
     "output_type": "error",
     "traceback": [
      "\u001b[0;31m---------------------------------------------------------------------------\u001b[0m",
      "\u001b[0;31mKeyboardInterrupt\u001b[0m                         Traceback (most recent call last)",
      "\u001b[0;32m<ipython-input-16-2f529911918c>\u001b[0m in \u001b[0;36m<module>\u001b[0;34m\u001b[0m\n\u001b[0;32m----> 1\u001b[0;31m \u001b[0mtrain\u001b[0m\u001b[0;34m(\u001b[0m\u001b[0mnet\u001b[0m\u001b[0;34m)\u001b[0m\u001b[0;34m\u001b[0m\u001b[0;34m\u001b[0m\u001b[0m\n\u001b[0m",
      "\u001b[0;32m<ipython-input-15-0e18d11b559b>\u001b[0m in \u001b[0;36mtrain\u001b[0;34m(net)\u001b[0m\n\u001b[1;32m     41\u001b[0m             \u001b[0mloss\u001b[0m \u001b[0;34m=\u001b[0m \u001b[0mcriterion\u001b[0m\u001b[0;34m(\u001b[0m\u001b[0moutput\u001b[0m\u001b[0;34m,\u001b[0m\u001b[0mtarget\u001b[0m\u001b[0;34m)\u001b[0m\u001b[0;34m\u001b[0m\u001b[0;34m\u001b[0m\u001b[0m\n\u001b[1;32m     42\u001b[0m \u001b[0;34m\u001b[0m\u001b[0m\n\u001b[0;32m---> 43\u001b[0;31m             \u001b[0mloss\u001b[0m\u001b[0;34m.\u001b[0m\u001b[0mbackward\u001b[0m\u001b[0;34m(\u001b[0m\u001b[0;34m)\u001b[0m\u001b[0;34m\u001b[0m\u001b[0;34m\u001b[0m\u001b[0m\n\u001b[0m\u001b[1;32m     44\u001b[0m             \u001b[0moptimizer\u001b[0m\u001b[0;34m.\u001b[0m\u001b[0mstep\u001b[0m\u001b[0;34m(\u001b[0m\u001b[0;34m)\u001b[0m\u001b[0;34m\u001b[0m\u001b[0;34m\u001b[0m\u001b[0m\n\u001b[1;32m     45\u001b[0m \u001b[0;34m\u001b[0m\u001b[0m\n",
      "\u001b[0;32m~/opt/anaconda3/envs/vision37/lib/python3.7/site-packages/torch/tensor.py\u001b[0m in \u001b[0;36mbackward\u001b[0;34m(self, gradient, retain_graph, create_graph)\u001b[0m\n\u001b[1;32m    219\u001b[0m                 \u001b[0mretain_graph\u001b[0m\u001b[0;34m=\u001b[0m\u001b[0mretain_graph\u001b[0m\u001b[0;34m,\u001b[0m\u001b[0;34m\u001b[0m\u001b[0;34m\u001b[0m\u001b[0m\n\u001b[1;32m    220\u001b[0m                 create_graph=create_graph)\n\u001b[0;32m--> 221\u001b[0;31m         \u001b[0mtorch\u001b[0m\u001b[0;34m.\u001b[0m\u001b[0mautograd\u001b[0m\u001b[0;34m.\u001b[0m\u001b[0mbackward\u001b[0m\u001b[0;34m(\u001b[0m\u001b[0mself\u001b[0m\u001b[0;34m,\u001b[0m \u001b[0mgradient\u001b[0m\u001b[0;34m,\u001b[0m \u001b[0mretain_graph\u001b[0m\u001b[0;34m,\u001b[0m \u001b[0mcreate_graph\u001b[0m\u001b[0;34m)\u001b[0m\u001b[0;34m\u001b[0m\u001b[0;34m\u001b[0m\u001b[0m\n\u001b[0m\u001b[1;32m    222\u001b[0m \u001b[0;34m\u001b[0m\u001b[0m\n\u001b[1;32m    223\u001b[0m     \u001b[0;32mdef\u001b[0m \u001b[0mregister_hook\u001b[0m\u001b[0;34m(\u001b[0m\u001b[0mself\u001b[0m\u001b[0;34m,\u001b[0m \u001b[0mhook\u001b[0m\u001b[0;34m)\u001b[0m\u001b[0;34m:\u001b[0m\u001b[0;34m\u001b[0m\u001b[0;34m\u001b[0m\u001b[0m\n",
      "\u001b[0;32m~/opt/anaconda3/envs/vision37/lib/python3.7/site-packages/torch/autograd/__init__.py\u001b[0m in \u001b[0;36mbackward\u001b[0;34m(tensors, grad_tensors, retain_graph, create_graph, grad_variables)\u001b[0m\n\u001b[1;32m    130\u001b[0m     Variable._execution_engine.run_backward(\n\u001b[1;32m    131\u001b[0m         \u001b[0mtensors\u001b[0m\u001b[0;34m,\u001b[0m \u001b[0mgrad_tensors_\u001b[0m\u001b[0;34m,\u001b[0m \u001b[0mretain_graph\u001b[0m\u001b[0;34m,\u001b[0m \u001b[0mcreate_graph\u001b[0m\u001b[0;34m,\u001b[0m\u001b[0;34m\u001b[0m\u001b[0;34m\u001b[0m\u001b[0m\n\u001b[0;32m--> 132\u001b[0;31m         allow_unreachable=True)  # allow_unreachable flag\n\u001b[0m\u001b[1;32m    133\u001b[0m \u001b[0;34m\u001b[0m\u001b[0m\n\u001b[1;32m    134\u001b[0m \u001b[0;34m\u001b[0m\u001b[0m\n",
      "\u001b[0;31mKeyboardInterrupt\u001b[0m: "
     ]
    }
   ],
   "source": [
    "train(net)"
   ]
  }
 ],
 "metadata": {
  "kernelspec": {
   "display_name": "Python 3",
   "language": "python",
   "name": "python3"
  },
  "language_info": {
   "codemirror_mode": {
    "name": "ipython",
    "version": 3
   },
   "file_extension": ".py",
   "mimetype": "text/x-python",
   "name": "python",
   "nbconvert_exporter": "python",
   "pygments_lexer": "ipython3",
   "version": "3.7.9"
  },
  "toc": {
   "base_numbering": 1,
   "nav_menu": {},
   "number_sections": true,
   "sideBar": true,
   "skip_h1_title": false,
   "title_cell": "Table of Contents",
   "title_sidebar": "Contents",
   "toc_cell": false,
   "toc_position": {},
   "toc_section_display": true,
   "toc_window_display": false
  }
 },
 "nbformat": 4,
 "nbformat_minor": 4
}
