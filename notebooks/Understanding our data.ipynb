{
 "cells": [
  {
   "cell_type": "markdown",
   "metadata": {
    "ExecuteTime": {
     "end_time": "2020-12-04T10:49:48.547462Z",
     "start_time": "2020-12-04T10:49:48.545630Z"
    }
   },
   "source": [
    "# Understanding our Data"
   ]
  },
  {
   "cell_type": "code",
   "execution_count": 43,
   "metadata": {
    "ExecuteTime": {
     "end_time": "2020-12-04T11:23:41.529849Z",
     "start_time": "2020-12-04T11:23:41.526509Z"
    }
   },
   "outputs": [],
   "source": [
    "import os\n",
    "from pprint import pprint, pformat\n",
    "\n",
    "import numpy as np\n",
    "\n",
    "from IPython.display import display, Markdown, Latex"
   ]
  },
  {
   "cell_type": "code",
   "execution_count": 3,
   "metadata": {
    "ExecuteTime": {
     "end_time": "2020-12-04T10:37:55.552843Z",
     "start_time": "2020-12-04T10:37:55.550837Z"
    }
   },
   "outputs": [],
   "source": [
    "data_path = \"/Volumes/T7/University/Polytechnique/INF634-Advanced-Computer-Vision/data\""
   ]
  },
  {
   "cell_type": "code",
   "execution_count": 7,
   "metadata": {
    "ExecuteTime": {
     "end_time": "2020-12-04T10:39:28.941399Z",
     "start_time": "2020-12-04T10:39:28.909512Z"
    }
   },
   "outputs": [
    {
     "name": "stdout",
     "output_type": "stream",
     "text": [
      "['fbank_pitch_181506',\n",
      " 'how2-300h-v1',\n",
      " 'how2-300h-v1-pt',\n",
      " 'how2-release',\n",
      " 'resnext101-action-avgpool-300h',\n",
      " 'text',\n",
      " 'video_action_features']\n"
     ]
    }
   ],
   "source": [
    "sub_folders = [f for f in os.listdir(data_path) if f[0] != \".\"]\n",
    "pprint(sub_folders)"
   ]
  },
  {
   "cell_type": "markdown",
   "metadata": {},
   "source": [
    "## Folder: Video Action Features\n",
    "`video_action_features`"
   ]
  },
  {
   "cell_type": "code",
   "execution_count": 13,
   "metadata": {
    "ExecuteTime": {
     "end_time": "2020-12-04T10:47:57.459978Z",
     "start_time": "2020-12-04T10:47:57.385611Z"
    }
   },
   "outputs": [
    {
     "name": "stdout",
     "output_type": "stream",
     "text": [
      "Reading folder: video_action_features\n",
      "\n",
      "72983 video files...\n",
      "\n",
      "Video 'fG5LhLDYT1U.npy' has shape (246, 2048)\n",
      "Video '_UrvfGn6lF8.npy' has shape (320, 2048)\n",
      "Video 'qKpBtUSQoBo.npy' has shape (257, 2048)\n",
      "Video 'gBBDll2rjXM.npy' has shape (206, 2048)\n",
      "Video 'tdCNpLTGuTk.npy' has shape (161, 2048)\n",
      "Video 't3itBu2aNCM.npy' has shape (120, 2048)\n",
      "Video 'KHVUsILSS4E.npy' has shape (146, 2048)\n",
      "Video 'bX0Zpf-rEgc.npy' has shape (133, 2048)\n",
      "Video 'bJdeMjRmU4U.npy' has shape (122, 2048)\n",
      "Video '2iwcFiIbkn8.npy' has shape (157, 2048)\n"
     ]
    }
   ],
   "source": [
    "folder_name = \"video_action_features\"\n",
    "sub_path = os.path.join(data_path, folder_name)\n",
    "print(f\"Reading folder: {folder_name}\\n\")\n",
    "\n",
    "sub_path_folders = [f for f in os.listdir(sub_path) if f[-4:] == \".npy\"]\n",
    "n_videos = len(sub_path_folders)\n",
    "\n",
    "print(f\"{n_videos} video files...\\n\")\n",
    "\n",
    "for video_name in sub_path_folders[-10:]:\n",
    "    video_path = os.path.join(sub_path, video_name)\n",
    "    with open(video_path, \"rb\") as f:\n",
    "        video = np.load(f)\n",
    "        print(f\"Video '{video_name}' has shape {np.shape(video)}\")"
   ]
  },
  {
   "cell_type": "markdown",
   "metadata": {},
   "source": [
    "## Folder: text\n",
    "`text`, transcriptions and descriptions of videos"
   ]
  },
  {
   "cell_type": "code",
   "execution_count": 26,
   "metadata": {
    "ExecuteTime": {
     "end_time": "2020-12-04T11:01:56.800610Z",
     "start_time": "2020-12-04T11:01:56.767460Z"
    }
   },
   "outputs": [
    {
     "name": "stdout",
     "output_type": "stream",
     "text": [
      "Reading folder: text\n",
      "\n",
      "Accessible data are located at folders ['sum_devtest', 'sum_cv', 'sum_train']\n",
      "\n",
      "Accessible files are ['tran.tok.txt', 'desc.tok.txt'] in 'sum_train'\n",
      "\n"
     ]
    }
   ],
   "source": [
    "folder_name = \"text\"\n",
    "sub_path = os.path.join(data_path, folder_name)\n",
    "print(f\"Reading folder: {folder_name}\\n\")\n",
    "\n",
    "sub_path_folders = [f for f in os.listdir(sub_path) if f[0] != \".\"]\n",
    "print(f\"Accessible data are located at folders {sub_path_folders[-10:]}\\n\")\n",
    "\n",
    "sum_folder_path = os.path.join(sub_path, \"sum_train\")\n",
    "sum_files = [f for f in os.listdir(sum_folder_path) if f[0] != \".\"]\n",
    "print(f\"Accessible files are {sum_files} in 'sum_train'\\n\")"
   ]
  },
  {
   "cell_type": "code",
   "execution_count": 28,
   "metadata": {
    "ExecuteTime": {
     "end_time": "2020-12-04T11:02:10.142894Z",
     "start_time": "2020-12-04T11:02:10.138765Z"
    }
   },
   "outputs": [
    {
     "name": "stdout",
     "output_type": "stream",
     "text": [
      "Reading: 'tran.tok.txt'\n",
      "\n",
      "DOx-0ZSIZkA hi everybody i 'm john graden from the martial arts teacher 's association and johngraden.com . one of the questions i have been asked through the years how do you choose a martial art ? it really varies it depends on what your goal is . are you trying to get in better shape , do you want to learn self defense , do you want to compete or are you just interested in the mental benefits of the martial arts offer you , mental benefits such as self confidence , self discipline , self control , respect , so there is a lot of variables . in my mind when people say what style is best , what style should i do the only style that is really important is the teaching style of the instructor . so how do you choose a good martial arts ? it is really more about choosing a good martial arts instructor , it 's about choosing a good martial arts school , so when you are going to make the decision make sure first you know what your goal is . if you really want a strong self defense oriented system you want to be working with an instructor who may have a police background a law enforcement background , some practical application in street self defense . if you are just looking to become a martial artist or a good black belt here is the key . you want to go and visit and watch the students , watch the beginner students and study in particular the teaching style of the instructor . how does that instructor interact with the students , how does that instructor conduct a class ? then go look at the advanced students . we want to make sure that they 're impressive , we want to make sure that they 're in shape , we want to make sure there is lots of them . what does that mean if there is lots of advanced students ? that means the school has a high retention . that means that it is a good school or she is a good instructor and she is able to keep her students for a long time . when you have a school that has lots of brown and black belts and they are impressive then you know you have an instructor that has a curriculum designed to keep students in the school so the teaching style is the most important style of any martial art . there are a variety of different styles , tai kwon do , kempo , kung fu , karate , i 'm not that interested in the style , i 'm interested in the teacher , making sure that teacher can help me or you to reach your goals . i 'm john graden for the martial arts teacher 's association . thanks . tune in for more martial arts excitement . thanks .\n",
      "\n"
     ]
    }
   ],
   "source": [
    "txt_file = os.path.join(sum_folder_path, \"tran.tok.txt\")\n",
    "print(\"Reading: 'tran.tok.txt'\\n\")\n",
    "with open(txt_file, \"r\") as f:\n",
    "    line = f.readline()\n",
    "    print(line)"
   ]
  },
  {
   "cell_type": "code",
   "execution_count": 29,
   "metadata": {
    "ExecuteTime": {
     "end_time": "2020-12-04T11:02:33.261432Z",
     "start_time": "2020-12-04T11:02:33.257390Z"
    }
   },
   "outputs": [
    {
     "name": "stdout",
     "output_type": "stream",
     "text": [
      "Reading: 'desc.tok.txt'\n",
      "\n",
      "DOx-0ZSIZkA when choosing a martial art , choose an informed and talented instructor . choose a martial arts fighting system with tips from a martial arts teacher in this free self-defense video .\n",
      "\n"
     ]
    }
   ],
   "source": [
    "txt_file = os.path.join(sum_folder_path, \"desc.tok.txt\")\n",
    "print(\"Reading: 'desc.tok.txt'\\n\")\n",
    "\n",
    "with open(txt_file, \"r\") as f:\n",
    "    line = f.readline()\n",
    "    print(line)"
   ]
  },
  {
   "cell_type": "markdown",
   "metadata": {},
   "source": [
    "## Folder: ResNext101 \n",
    "`resnext101-action-avgpool-300h`"
   ]
  },
  {
   "cell_type": "code",
   "execution_count": 34,
   "metadata": {
    "ExecuteTime": {
     "end_time": "2020-12-04T11:08:57.120308Z",
     "start_time": "2020-12-04T11:08:55.394724Z"
    }
   },
   "outputs": [
    {
     "name": "stdout",
     "output_type": "stream",
     "text": [
      "Reading folder: resnext101-action-avgpool-300h\n",
      "\n",
      "Accessible data are located at folders ['train.npy', 'val.npy', 'dev5.npy']\n",
      "\n",
      "Shape of 'train.npy' is (184949, 2048)\n"
     ]
    }
   ],
   "source": [
    "folder_name = \"resnext101-action-avgpool-300h\"\n",
    "sub_path = os.path.join(data_path, folder_name)\n",
    "print(f\"Reading folder: {folder_name}\\n\")\n",
    "\n",
    "sub_path_folders = [f for f in os.listdir(sub_path) if f[0] != \".\"]\n",
    "print(f\"Accessible data are located at folders {sub_path_folders[-10:]}\\n\")\n",
    "\n",
    "file = \"train.npy\"\n",
    "npy_path = os.path.join(sub_path, file)\n",
    "with open(npy_path, \"rb\") as f:\n",
    "    avgpool = np.load(f)\n",
    "    print(f\"Shape of '{file}' is {np.shape(avgpool)}\")"
   ]
  },
  {
   "cell_type": "markdown",
   "metadata": {},
   "source": [
    "## Folder: How2 Release\n",
    "`how2-release`"
   ]
  },
  {
   "cell_type": "code",
   "execution_count": 35,
   "metadata": {
    "ExecuteTime": {
     "end_time": "2020-12-04T11:12:47.541884Z",
     "start_time": "2020-12-04T11:12:47.502725Z"
    }
   },
   "outputs": [
    {
     "name": "stdout",
     "output_type": "stream",
     "text": [
      "Reading folder: how2-release\n",
      "\n",
      "Accessible data are located at folders ['readme.md', 'word_embedding', 'dev5', 'scripts', 'info', 'val', 'train']\n",
      "\n"
     ]
    }
   ],
   "source": [
    "folder_name = \"how2-release\"\n",
    "sub_path = os.path.join(data_path, folder_name)\n",
    "print(f\"Reading folder: {folder_name}\\n\")\n",
    "\n",
    "sub_path_folders = [f for f in os.listdir(sub_path) if f[0] != \".\"]\n",
    "print(f\"Accessible data are located at folders {sub_path_folders[-10:]}\\n\")"
   ]
  },
  {
   "cell_type": "code",
   "execution_count": 36,
   "metadata": {
    "ExecuteTime": {
     "end_time": "2020-12-04T11:15:34.917677Z",
     "start_time": "2020-12-04T11:15:34.877292Z"
    }
   },
   "outputs": [
    {
     "data": {
      "text/markdown": [
       "# How2 automatic construction of video frame-entity dataset\n",
       "\n",
       "## Directory structure\n",
       "- **{train,dev5,val}**: stores time-aligned transcription with videos and gold standard bounding boxes in {dev5,val}\n",
       "- **scripts**: utility scripts when you want to download videos and compute your own features\n",
       "- **word_embedding**: word embedding vectors trained on transcription of How2-train using fastText\n",
       "- **info**: stores information which entities were used for experiments, and video_ids to download videos\n",
       "```\n",
       "release\n",
       "|    readme.md\n",
       "|\n",
       "-----train\n",
       "|    |    ctm.annotation_instance\n",
       "|    dev5\n",
       "|    |    ctm.annotation_instance\n",
       "|    |    gold_bbxs.json\n",
       "|    val\n",
       "|    |    ctm.annotation_instance\n",
       "|    |    gold_bbxs.json\n",
       "-----scripts\n",
       "|    |    download_parallel.sh\n",
       "|    |    get_images_from_word_timestamps.sh\n",
       "-----word_embedding\n",
       "|    |    cmu_partition.train.vec\n",
       "-----info\n",
       "|    |    entities.plural-singular.txt\n",
       "|    |    entities.txt\n",
       "|    |    old2new_ids.txt\n",
       "|    |    video_ids\n",
       "|    |    |    train_video_ids.txt\n",
       "|    |    |    dev5_video_ids.txt\n",
       "|    |    |    val_video_ids.txt\n",
       "```\n",
       "\n",
       "## Download videos and extract video frames\n",
       "Please follow the instructions below to original videos and extract video frames.\n",
       "The example below shows how to download videos and extract video frames for train set.\n",
       "```\n",
       "# install youtube-dl\n",
       "sudo curl -L https://yt-dl.org/downloads/latest/youtube-dl -o /usr/local/bin/youtube-dl\n",
       "sudo chmod a+rx /usr/local/bin/youtube-dl\n",
       "# install parallel\n",
       "sudo apt-get install parallel\n",
       "\n",
       "# number_of_jobs video_id_file output_dir\n",
       "mkdir -p download/train\n",
       "./scripts/download_parallel.sh 4 info/train_video_ids.txt download/train\n",
       "\n",
       "# video_dir ctm_annotation_instance video_dir video_frames_output\n",
       "mkdir -p download/train_video_frames\n",
       "./scripts/get_images_from_word_timestamps.sh train/ctm.annotation_instance download/train download/train_video_frames\n",
       "```\n",
       "\n",
       "## Note\n",
       "* If you have already downloaded videos for How2 in another place, please refer to info/old2new_ids.txt to rename YouTube IDs for new IDs. YouTube IDs contain special characters such as \"-\" and \"_\", and this can cause a problem later.\n",
       "* Some video frames are labelled with an entity that is not part of info/entities.txt. Please ignore such entities, as they are not part of gold_bbxs.json either.\n",
       "* Each video frame is named as \"{video_id}\\_{entity}\\_{time-stamp}\".\n",
       "* Each gold standard label is named as \"{video_id}\\_{entity}\\_{time-stamp}.jpg\".\n",
       "* Each bounding box of the json file is [x, y, w, h].\n"
      ],
      "text/plain": [
       "<IPython.core.display.Markdown object>"
      ]
     },
     "metadata": {},
     "output_type": "display_data"
    }
   ],
   "source": [
    "readme_path = os.path.join(sub_path,\"readme.md\")\n",
    "with open(readme_path, \"r\") as f:\n",
    "    display(Markdown(f.read()))"
   ]
  },
  {
   "cell_type": "code",
   "execution_count": null,
   "metadata": {},
   "outputs": [],
   "source": []
  },
  {
   "cell_type": "markdown",
   "metadata": {},
   "source": [
    "## Folder: How2 300h v1 pt\n",
    " `how2-300h-v1-pt`\n",
    " \n",
    "Portugueuse text.\n",
    "* `text.id.pt`: video id + portuguese text\n",
    "* `text.pt`: portuguese text"
   ]
  },
  {
   "cell_type": "code",
   "execution_count": 37,
   "metadata": {
    "ExecuteTime": {
     "end_time": "2020-12-04T11:17:25.510888Z",
     "start_time": "2020-12-04T11:17:25.474083Z"
    }
   },
   "outputs": [
    {
     "name": "stdout",
     "output_type": "stream",
     "text": [
      "Reading folder: how2-300h-v1-pt\n",
      "\n",
      "Accessible data are located at folders ['data']\n",
      "\n"
     ]
    }
   ],
   "source": [
    "folder_name = \"how2-300h-v1-pt\"\n",
    "sub_path = os.path.join(data_path, folder_name)\n",
    "print(f\"Reading folder: {folder_name}\\n\")\n",
    "\n",
    "sub_path_folders = [f for f in os.listdir(sub_path) if f[0] != \".\"]\n",
    "print(f\"Accessible data are located at folders {sub_path_folders[-10:]}\\n\")"
   ]
  },
  {
   "cell_type": "markdown",
   "metadata": {},
   "source": [
    "## Folder: How2 300h v1\n",
    "`how2-300h-v1`"
   ]
  },
  {
   "cell_type": "code",
   "execution_count": 38,
   "metadata": {
    "ExecuteTime": {
     "end_time": "2020-12-04T11:19:58.395154Z",
     "start_time": "2020-12-04T11:19:58.350700Z"
    }
   },
   "outputs": [
    {
     "name": "stdout",
     "output_type": "stream",
     "text": [
      "Reading folder: how2-300h-v1\n",
      "\n",
      "Accessible data are located at folders ['data', 'features', 'README.md', 'unpack.sh']\n",
      "\n"
     ]
    }
   ],
   "source": [
    "folder_name = \"how2-300h-v1\"\n",
    "sub_path = os.path.join(data_path, folder_name)\n",
    "print(f\"Reading folder: {folder_name}\\n\")\n",
    "\n",
    "sub_path_folders = [f for f in os.listdir(sub_path) if f[0] != \".\"]\n",
    "print(f\"Accessible data are located at folders {sub_path_folders[-10:]}\\n\")"
   ]
  },
  {
   "cell_type": "code",
   "execution_count": 41,
   "metadata": {
    "ExecuteTime": {
     "end_time": "2020-12-04T11:20:46.173827Z",
     "start_time": "2020-12-04T11:20:46.169358Z"
    }
   },
   "outputs": [
    {
     "data": {
      "text/markdown": [
       "Copy the downloaded feature tarballs to features/ if any and run ./unpack.sh.\n"
      ],
      "text/plain": [
       "<IPython.core.display.Markdown object>"
      ]
     },
     "metadata": {},
     "output_type": "display_data"
    }
   ],
   "source": [
    "readme_path = os.path.join(sub_path,\"README.md\")\n",
    "with open(readme_path, \"r\") as f:\n",
    "    display(Markdown(f.read()))"
   ]
  },
  {
   "cell_type": "markdown",
   "metadata": {},
   "source": [
    "## Folder: fbank pitch\n",
    "`fbank_pitch_181506`"
   ]
  },
  {
   "cell_type": "code",
   "execution_count": 45,
   "metadata": {
    "ExecuteTime": {
     "end_time": "2020-12-04T12:57:38.180328Z",
     "start_time": "2020-12-04T12:57:38.174319Z"
    }
   },
   "outputs": [
    {
     "name": "stdout",
     "output_type": "stream",
     "text": [
      "Reading folder: fbank_pitch_181506\n",
      "\n",
      "22 files....\n",
      "Accessible data are located at folders ['raw_fbank_pitch_all_181506.4.scp',\n",
      " 'raw_fbank_pitch_all_181506.3.scp',\n",
      " 'raw_fbank_pitch_all_181506.4.ark',\n",
      " 'raw_fbank_pitch_all_181506.3.ark',\n",
      " 'cmvn_all_181506.scp',\n",
      " 'cmvn_all_181506.ark',\n",
      " 'raw_fbank_pitch_all_181506.2.ark',\n",
      " 'raw_fbank_pitch_all_181506.5.ark',\n",
      " 'raw_fbank_pitch_all_181506.2.scp',\n",
      " 'raw_fbank_pitch_all_181506.5.scp']\n",
      "\n"
     ]
    }
   ],
   "source": [
    "folder_name = \"fbank_pitch_181506\"\n",
    "sub_path = os.path.join(data_path, folder_name)\n",
    "print(f\"Reading folder: {folder_name}\\n\")\n",
    "\n",
    "sub_path_folders = [f for f in os.listdir(sub_path) if f[0] != \".\"]\n",
    "\n",
    "print(f\"{len(sub_path_folders)} files....\")\n",
    "print(f\"Accessible data are located at folders {pformat(sub_path_folders[-10:])}\\n\")"
   ]
  },
  {
   "cell_type": "code",
   "execution_count": 47,
   "metadata": {
    "ExecuteTime": {
     "end_time": "2020-12-04T12:59:44.639507Z",
     "start_time": "2020-12-04T12:59:44.091726Z"
    }
   },
   "outputs": [
    {
     "name": "stdout",
     "output_type": "stream",
     "text": [
      "g3V0BsmDUgY ARK_PATH/cmvn_all_181506.ark:9984010\r\n",
      "g3X3XE6M2_A ARK_PATH/cmvn_all_181506.ark:9984741\r\n",
      "g3ZgF8gdfLo ARK_PATH/cmvn_all_181506.ark:9985472\r\n",
      "g3ZluRtRXVc ARK_PATH/cmvn_all_181506.ark:9986203\r\n",
      "g3jQ5ecjGz8 ARK_PATH/cmvn_all_181506.ark:9986934\r\n",
      "g3kFAmcBpFc ARK_PATH/cmvn_all_181506.ark:9987665\r\n",
      "g3pXM5X3_Xw ARK_PATH/cmvn_all_181506.ark:9988396\r\n",
      "g3sLd8JupoQ ARK_PATH/cmvn_all_181506.ark:9989127\r\n",
      "g3ushtMfLiY ARK_PATH/cmvn_all_181506.ark:9989858\r\n",
      "g3wQOQH1vyE ARK_PATH/cmvn_all_181506.ark:9990589\r\n"
     ]
    }
   ],
   "source": [
    "!cat /Volumes/T7/University/Polytechnique/INF634-Advanced-Computer-Vision/data/fbank_pitch_181506/cmvn_all_181506.scp | tail -n 10"
   ]
  },
  {
   "cell_type": "markdown",
   "metadata": {},
   "source": [
    "cmv: pour chaque video moyenne spectrale normalisé par variance"
   ]
  },
  {
   "cell_type": "code",
   "execution_count": 71,
   "metadata": {
    "ExecuteTime": {
     "end_time": "2020-12-04T13:23:56.056651Z",
     "start_time": "2020-12-04T13:23:55.997737Z"
    }
   },
   "outputs": [
    {
     "name": "stdout",
     "output_type": "stream",
     "text": [
      "--7E2sU6zP4\n",
      "--8pSDeC-fg\n",
      "--dANj_01AU\n",
      "-00cp1iGiDw\n",
      "-028p_Njb-8\n",
      "-06_nJnhORg\n",
      "-07Hlp9ZerU\n",
      "-08ZGCviCm4\n",
      "-0BynF9TSNI\n",
      "-0FA6OhxZSE\n",
      "-0JdYlTf9Y8\n",
      "-0N0jbyBW6g\n"
     ]
    }
   ],
   "source": [
    "import kaldiio\n",
    "\n",
    "# scp_filename = \"raw_fbank_pitch_all_181506.3.scp\"\n",
    "scp_filename = \"cmvn_all_181506.scp\"\n",
    "scp_path = os.path.join(sub_path, scp_filename)\n",
    "\n",
    "with open(scp_path) as fd:\n",
    "    data = kaldiio.load_scp(fd)\n",
    "    \n",
    "    for i, f in enumerate(data):\n",
    "        print(f)\n",
    "        if i > 10:\n",
    "            break"
   ]
  },
  {
   "cell_type": "code",
   "execution_count": 72,
   "metadata": {
    "ExecuteTime": {
     "end_time": "2020-12-04T13:24:24.546600Z",
     "start_time": "2020-12-04T13:24:24.540242Z"
    }
   },
   "outputs": [
    {
     "name": "stdout",
     "output_type": "stream",
     "text": [
      "--7E2sU6zP4 (2, 44)\n",
      "--8pSDeC-fg (2, 44)\n",
      "--dANj_01AU (2, 44)\n",
      "-00cp1iGiDw (2, 44)\n",
      "-028p_Njb-8 (2, 44)\n",
      "-06_nJnhORg (2, 44)\n",
      "-07Hlp9ZerU (2, 44)\n",
      "-08ZGCviCm4 (2, 44)\n",
      "-0BynF9TSNI (2, 44)\n",
      "-0FA6OhxZSE (2, 44)\n",
      "-0JdYlTf9Y8 (2, 44)\n",
      "-0N0jbyBW6g (2, 44)\n"
     ]
    }
   ],
   "source": [
    "# ark_filename = \"raw_fbank_pitch_all_181506.3.ark\"\n",
    "ark_filename = \"cmvn_all_181506.ark\"\n",
    "ark_path = os.path.join(sub_path, ark_filename)\n",
    "\n",
    "with open(ark_path) as fd:\n",
    "    data = kaldiio.load_ark(fd)\n",
    "    \n",
    "    for i, f in enumerate(data):\n",
    "#         print(len(f))\n",
    "        print(f[0], np.shape(f[1]))\n",
    "        if i > 10:\n",
    "            break"
   ]
  },
  {
   "cell_type": "code",
   "execution_count": 68,
   "metadata": {
    "ExecuteTime": {
     "end_time": "2020-12-04T13:19:10.645566Z",
     "start_time": "2020-12-04T13:19:10.461944Z"
    }
   },
   "outputs": [
    {
     "data": {
      "image/png": "[encoded data removed]",
      "text/plain": [
       "<Figure size 432x288 with 1 Axes>"
      ]
     },
     "metadata": {
      "needs_background": "light"
     },
     "output_type": "display_data"
    }
   ],
   "source": [
    "import matplotlib.pyplot as plt\n",
    "\n",
    "plt.plot(f[1][0])\n",
    "plt.plot(f[1][1])\n",
    "plt.show()"
   ]
  },
  {
   "cell_type": "code",
   "execution_count": null,
   "metadata": {},
   "outputs": [],
   "source": []
  }
 ],
 "metadata": {
  "kernelspec": {
   "display_name": "Python 3",
   "language": "python",
   "name": "python3"
  },
  "language_info": {
   "codemirror_mode": {
    "name": "ipython",
    "version": 3
   },
   "file_extension": ".py",
   "mimetype": "text/x-python",
   "name": "python",
   "nbconvert_exporter": "python",
   "pygments_lexer": "ipython3",
   "version": "3.7.9"
  },
  "toc": {
   "base_numbering": 1,
   "nav_menu": {},
   "number_sections": true,
   "sideBar": true,
   "skip_h1_title": false,
   "title_cell": "Table of Contents",
   "title_sidebar": "Contents",
   "toc_cell": false,
   "toc_position": {},
   "toc_section_display": true,
   "toc_window_display": true
  }
 },
 "nbformat": 4,
 "nbformat_minor": 4
}
