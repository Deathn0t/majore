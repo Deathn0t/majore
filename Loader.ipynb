{
 "cells": [
  {
   "cell_type": "code",
   "execution_count": 1,
   "metadata": {},
   "outputs": [],
   "source": [
    "import os\n",
    "import glob\n",
    "import torch\n",
    "import numpy as np\n",
    "import kaldiio\n",
    "from torch.utils.data import Dataset"
   ]
  },
  {
   "cell_type": "code",
   "execution_count": 12,
   "metadata": {},
   "outputs": [],
   "source": [
    "class AudioFeatureDataset(Dataset):\n",
    "    \n",
    "    def __init__(self, HOW2_PATH, subfolder):\n",
    "        \n",
    "        if subfolder not in ['train', 'val', 'dev5']:\n",
    "            raise ValueError('subfolder must be either train, val or dev5')\n",
    "        # Set relative paths for 300h\n",
    "        self.HOW2_PATH = HOW2_PATH\n",
    "        self.BASE_PATH = self.HOW2_PATH + 'how2-300h-v1/data/'\n",
    "        self.AUDIO_PATH = self.HOW2_PATH + 'fbank_pitch_181506/'\n",
    "        # Read id file\n",
    "        self.ids = self.get_ids(self.BASE_PATH + f'{subfolder}/id')\n",
    "        \n",
    "        # Map id-audio\n",
    "        self.mapping = self.make_dict()\n",
    "    \n",
    "    def get_ids(self, id_file):\n",
    "        with open(id_file) as f:\n",
    "            content = f.read()\n",
    "        return content.strip().split('\\n')\n",
    "    \n",
    "    def make_dict(self):\n",
    "        all_scp = [file for file in glob.glob(self.AUDIO_PATH + '*.scp') if 'raw' in file]\n",
    "        mapping = dict()\n",
    "        \n",
    "        for scpfile in all_scp:\n",
    "            with open(scpfile) as f:\n",
    "                for line in f:\n",
    "                    video_id, audio_path = line.strip().split()\n",
    "                    audio_path = audio_path.replace('ARK_PATH/', self.AUDIO_PATH, 1)\n",
    "                    mapping[video_id] = audio_path\n",
    "        return mapping\n",
    "    \n",
    "    def __len__(self):\n",
    "        return len(self.ids)\n",
    "    \n",
    "    def __getitem__(self, idx):\n",
    "        sample_id = self.ids[idx]\n",
    "        sample_ark = self.mapping[sample_id]\n",
    "        return kaldiio.load_mat(sample_ark)"
   ]
  },
  {
   "cell_type": "code",
   "execution_count": 13,
   "metadata": {},
   "outputs": [],
   "source": [
    "HOW2_PATH = './data/how2-dataset/'\n",
    "\n",
    "d = AudioFeatureDataset(HOW2_PATH, 'train')"
   ]
  },
  {
   "cell_type": "code",
   "execution_count": 14,
   "metadata": {},
   "outputs": [
    {
     "data": {
      "text/plain": [
       "array([[ 1.33435392e+01,  1.34493484e+01,  1.15592442e+01, ...,\n",
       "         6.57519177e-02, -2.48693824e-02,  4.65756506e-02],\n",
       "       [ 1.43025455e+01,  1.60679817e+01,  1.69987659e+01, ...,\n",
       "        -1.93527699e-01, -2.48693824e-02,  1.37654662e-01],\n",
       "       [ 1.52859964e+01,  1.67500744e+01,  1.98471756e+01, ...,\n",
       "        -2.42214203e-01,  4.43451107e-02,  1.50330648e-01],\n",
       "       ...,\n",
       "       [ 1.24373922e+01,  1.46604671e+01,  1.52252274e+01, ...,\n",
       "         1.04104526e-01,  7.18828619e-01,  3.59221399e-02],\n",
       "       [ 1.22473936e+01,  1.43004045e+01,  1.46340475e+01, ...,\n",
       "         1.27116099e-01,  7.18828619e-01,  1.46151185e-02],\n",
       "       [ 1.34896917e+01,  1.40385408e+01,  1.35591764e+01, ...,\n",
       "         9.38771591e-02,  7.18828619e-01,  1.35497674e-02]], dtype=float32)"
      ]
     },
     "execution_count": 14,
     "metadata": {},
     "output_type": "execute_result"
    }
   ],
   "source": [
    "d[0]"
   ]
  },
  {
   "cell_type": "code",
   "execution_count": 15,
   "metadata": {},
   "outputs": [
    {
     "name": "stdout",
     "output_type": "stream",
     "text": [
      "184949\n"
     ]
    }
   ],
   "source": [
    "print(len(d.ids))"
   ]
  },
  {
   "cell_type": "code",
   "execution_count": 16,
   "metadata": {},
   "outputs": [],
   "source": [
    "dt = AudioFeatureDataset(HOW2_PATH, 'val')"
   ]
  },
  {
   "cell_type": "code",
   "execution_count": 17,
   "metadata": {},
   "outputs": [
    {
     "data": {
      "text/plain": [
       "array([[ 1.19268036e+01,  1.26650295e+01,  1.38440723e+01, ...,\n",
       "        -4.81955916e-01,  8.70175362e-02,  3.98578793e-02],\n",
       "       [ 1.14035606e+01,  1.15549412e+01,  1.14114571e+01, ...,\n",
       "        -7.07235694e-01,  6.60834312e-02,  2.88045555e-02],\n",
       "       [ 1.19495325e+01,  1.18188782e+01,  1.28029146e+01, ...,\n",
       "        -1.00062466e+00,  7.65504837e-02,  9.19905752e-02],\n",
       "       ...,\n",
       "       [ 1.29609966e+01,  1.61369553e+01,  1.65433693e+01, ...,\n",
       "        -7.71601379e-01, -6.99882507e-02,  1.88073963e-01],\n",
       "       [ 1.28473492e+01,  1.63066597e+01,  1.69675446e+01, ...,\n",
       "        -6.42870069e-01, -2.81200409e-02,  1.94079176e-01],\n",
       "       [ 1.32132759e+01,  1.58654318e+01,  1.69289818e+01, ...,\n",
       "        -5.20575285e-01,  1.37481689e-02,  1.22016631e-01]], dtype=float32)"
      ]
     },
     "execution_count": 17,
     "metadata": {},
     "output_type": "execute_result"
    }
   ],
   "source": [
    "dt[0]"
   ]
  },
  {
   "cell_type": "code",
   "execution_count": 18,
   "metadata": {},
   "outputs": [
    {
     "data": {
      "text/plain": [
       "2022"
      ]
     },
     "execution_count": 18,
     "metadata": {},
     "output_type": "execute_result"
    }
   ],
   "source": [
    "len(dt)"
   ]
  },
  {
   "cell_type": "code",
   "execution_count": null,
   "metadata": {},
   "outputs": [],
   "source": []
  }
 ],
 "metadata": {
  "kernelspec": {
   "display_name": "Python 3",
   "language": "python",
   "name": "python3"
  },
  "language_info": {
   "codemirror_mode": {
    "name": "ipython",
    "version": 3
   },
   "file_extension": ".py",
   "mimetype": "text/x-python",
   "name": "python",
   "nbconvert_exporter": "python",
   "pygments_lexer": "ipython3",
   "version": "3.6.12"
  },
  "toc": {
   "base_numbering": 1,
   "nav_menu": {},
   "number_sections": true,
   "sideBar": true,
   "skip_h1_title": false,
   "title_cell": "Table of Contents",
   "title_sidebar": "Contents",
   "toc_cell": false,
   "toc_position": {},
   "toc_section_display": true,
   "toc_window_display": false
  }
 },
 "nbformat": 4,
 "nbformat_minor": 4
}
