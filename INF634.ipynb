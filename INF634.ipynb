{
 "cells": [
  {
   "cell_type": "code",
   "execution_count": null,
   "metadata": {
    "colab": {
     "base_uri": "https://localhost:8080/"
    },
    "executionInfo": {
     "elapsed": 20768,
     "status": "ok",
     "timestamp": 1606559099993,
     "user": {
      "displayName": "Martin Cepeda",
      "photoUrl": "https://lh3.googleusercontent.com/a-/AOh14GgkIEUDhu-CgJmW_FHzPWvW4qaby889p6TCHPUYNA=s64",
      "userId": "07590992943980950163"
     },
     "user_tz": -60
    },
    "id": "t1hCfwf95UNM",
    "outputId": "a9cb6fbc-c8a9-463a-a5a1-8f2f575d5cec"
   },
   "outputs": [
    {
     "name": "stdout",
     "output_type": "stream",
     "text": [
      "Mounted at /content/drive\n"
     ]
    }
   ],
   "source": [
    "# from google.colab import drive \n",
    "# drive.mount('/content/drive')"
   ]
  },
  {
   "cell_type": "code",
   "execution_count": 1,
   "metadata": {
    "colab": {
     "base_uri": "https://localhost:8080/"
    },
    "executionInfo": {
     "elapsed": 801,
     "status": "ok",
     "timestamp": 1606563554302,
     "user": {
      "displayName": "Martin Cepeda",
      "photoUrl": "https://lh3.googleusercontent.com/a-/AOh14GgkIEUDhu-CgJmW_FHzPWvW4qaby889p6TCHPUYNA=s64",
      "userId": "07590992943980950163"
     },
     "user_tz": -60
    },
    "id": "iQ24Y91M5duF",
    "outputId": "033a626f-0de0-4f77-8f9b-eadd858d8d2b"
   },
   "outputs": [
    {
     "name": "stdout",
     "output_type": "stream",
     "text": [
      "['.git', '.gitignore', '.ipynb_checkpoints', '3d_resnets', 'data', 'data_dict.pkl', 'INF634.ipynb', 'LICENSE', 'multimodal-transformer', 'README.md', 'repos-zip', 'requirements.txt']\n"
     ]
    }
   ],
   "source": [
    "import os\n",
    "import tarfile\n",
    "import pickle\n",
    "import pprint\n",
    "\n",
    "# PATH = '/content/drive/MyDrive/INF634Project'\n",
    "DATA_RELPATH = './data/how2-dataset'\n",
    "MAKE_DATA_LOOKUP = False\n",
    "\n",
    "\n",
    "\n",
    "# %cd $PATH\n",
    "# print('Notebook running on', PATH)\n",
    "print(os.listdir())"
   ]
  },
  {
   "cell_type": "code",
   "execution_count": null,
   "metadata": {},
   "outputs": [],
   "source": []
  },
  {
   "cell_type": "code",
   "execution_count": 2,
   "metadata": {
    "colab": {
     "base_uri": "https://localhost:8080/"
    },
    "executionInfo": {
     "elapsed": 543489,
     "status": "ok",
     "timestamp": 1606563456759,
     "user": {
      "displayName": "Martin Cepeda",
      "photoUrl": "https://lh3.googleusercontent.com/a-/AOh14GgkIEUDhu-CgJmW_FHzPWvW4qaby889p6TCHPUYNA=s64",
      "userId": "07590992943980950163"
     },
     "user_tz": -60
    },
    "id": "91wvRJZr5npc",
    "outputId": "3f946af6-5092-4252-89c3-86d265814899"
   },
   "outputs": [
    {
     "name": "stdout",
     "output_type": "stream",
     "text": [
      "Loaded data dictionary lookup from C:\\Users\\marti\\Desktop\\Projects\\majore\n",
      "Data dictionary lookup:\n",
      "{'./data/how2-dataset/tmp_audio.tar.bz2': ['fbank_pitch_181506',\n",
      "                                           'fbank_pitch_181506/raw_fbank_pitch_all_181506.10.scp',\n",
      "                                           'fbank_pitch_181506/raw_fbank_pitch_all_181506.10.ark',\n",
      "                                           'fbank_pitch_181506/raw_fbank_pitch_all_181506.6.ark',\n",
      "                                           'fbank_pitch_181506/raw_fbank_pitch_all_181506.1.ark',\n",
      "                                           'fbank_pitch_181506/raw_fbank_pitch_all_181506.8.ark',\n",
      "                                           'fbank_pitch_181506/raw_fbank_pitch_all_181506.6.scp',\n",
      "                                           'fbank_pitch_181506/raw_fbank_pitch_all_181506.1.scp',\n",
      "                                           'fbank_pitch_181506/raw_fbank_pitch_all_181506.8.scp',\n",
      "                                           'fbank_pitch_181506/raw_fbank_pitch_all_181506.9.scp',\n",
      "                                           'fbank_pitch_181506/raw_fbank_pitch_all_181506.7.scp',\n",
      "                                           'fbank_pitch_181506/raw_fbank_pitch_all_181506.9.ark',\n",
      "                                           'fbank_pitch_181506/raw_fbank_pitch_all_181506.7.ark',\n",
      "                                           'fbank_pitch_181506/raw_fbank_pitch_all_181506.4.scp',\n",
      "                                           'fbank_pitch_181506/raw_fbank_pitch_all_181506.3.scp',\n",
      "                                           'fbank_pitch_181506/raw_fbank_pitch_all_181506.4.ark',\n",
      "                                           'fbank_pitch_181506/raw_fbank_pitch_all_181506.3.ark',\n",
      "                                           'fbank_pitch_181506/cmvn_all_181506.scp',\n",
      "                                           'fbank_pitch_181506/cmvn_all_181506.ark',\n",
      "                                           'fbank_pitch_181506/raw_fbank_pitch_all_181506.2.ark',\n",
      "                                           'fbank_pitch_181506/raw_fbank_pitch_all_181506.5.ark',\n",
      "                                           'fbank_pitch_181506/raw_fbank_pitch_all_181506.2.scp',\n",
      "                                           'fbank_pitch_181506/raw_fbank_pitch_all_181506.5.scp'],\n",
      " './data/how2-dataset/tmp_en_sum.tar.gz': ['text',\n",
      "                                           'text/sum_devtest',\n",
      "                                           'text/sum_devtest/tran.tok.txt',\n",
      "                                           'text/sum_devtest/desc.tok.txt',\n",
      "                                           'text/sum_cv',\n",
      "                                           'text/sum_cv/desc.tok.txt',\n",
      "                                           'text/sum_cv/tran.tok.txt',\n",
      "                                           'text/sum_train',\n",
      "                                           'text/sum_train/tran.tok.txt',\n",
      "                                           'text/sum_train/desc.tok.txt'],\n",
      " './data/how2-dataset/tmp_ground.tar.gz': ['how2-release',\n",
      "                                           'how2-release/readme.md',\n",
      "                                           'how2-release/word_embedding',\n",
      "                                           'how2-release/word_embedding/cmu_partition.train.vec',\n",
      "                                           'how2-release/dev5',\n",
      "                                           'how2-release/dev5/ctm.annotation_instance',\n",
      "                                           'how2-release/dev5/gold_bbxs.json',\n",
      "                                           'how2-release/scripts',\n",
      "                                           'how2-release/scripts/get_images_from_word_timestamps.sh',\n",
      "                                           'how2-release/scripts/download_parallel.sh',\n",
      "                                           'how2-release/info',\n",
      "                                           'how2-release/info/entities_plural-singular.txt',\n",
      "                                           'how2-release/info/entities.txt',\n",
      "                                           'how2-release/info/video_ids',\n",
      "                                           'how2-release/info/video_ids/val_video_ids.txt',\n",
      "                                           'how2-release/info/video_ids/train_video_ids.txt',\n",
      "                                           'how2-release/info/video_ids/dev5_video_ids.txt',\n",
      "                                           'how2-release/info/old2new_ids.txt',\n",
      "                                           'how2-release/val',\n",
      "                                           'how2-release/val/ctm.annotation_instance',\n",
      "                                           'how2-release/val/gold_bbxs.json',\n",
      "                                           'how2-release/train',\n",
      "                                           'how2-release/train/ctm.annotation_instance'],\n",
      " './data/how2-dataset/tmp_text_en.tar.bz2': ['how2-300h-v1',\n",
      "                                             'how2-300h-v1/data',\n",
      "                                             'how2-300h-v1/data/train',\n",
      "                                             'how2-300h-v1/data/train/id',\n",
      "                                             'how2-300h-v1/data/train/segments',\n",
      "                                             'how2-300h-v1/data/train/spk2utt',\n",
      "                                             'how2-300h-v1/data/train/text.en',\n",
      "                                             'how2-300h-v1/data/train/text.id.en',\n",
      "                                             'how2-300h-v1/data/train/utt2spk',\n",
      "                                             'how2-300h-v1/data/train/cmvn.scp',\n",
      "                                             'how2-300h-v1/data/train/feats.scp',\n",
      "                                             'how2-300h-v1/data/val',\n",
      "                                             'how2-300h-v1/data/val/id',\n",
      "                                             'how2-300h-v1/data/val/segments',\n",
      "                                             'how2-300h-v1/data/val/spk2utt',\n",
      "                                             'how2-300h-v1/data/val/text.en',\n",
      "                                             'how2-300h-v1/data/val/text.id.en',\n",
      "                                             'how2-300h-v1/data/val/utt2spk',\n",
      "                                             'how2-300h-v1/data/val/cmvn.scp',\n",
      "                                             'how2-300h-v1/data/val/feats.scp',\n",
      "                                             'how2-300h-v1/data/dev5',\n",
      "                                             'how2-300h-v1/data/dev5/id',\n",
      "                                             'how2-300h-v1/data/dev5/segments',\n",
      "                                             'how2-300h-v1/data/dev5/spk2utt',\n",
      "                                             'how2-300h-v1/data/dev5/text.en',\n",
      "                                             'how2-300h-v1/data/dev5/text.id.en',\n",
      "                                             'how2-300h-v1/data/dev5/utt2spk',\n",
      "                                             'how2-300h-v1/data/dev5/cmvn.scp',\n",
      "                                             'how2-300h-v1/data/dev5/feats.scp',\n",
      "                                             'how2-300h-v1/features',\n",
      "                                             'how2-300h-v1/README.md',\n",
      "                                             'how2-300h-v1/unpack.sh'],\n",
      " './data/how2-dataset/tmp_text_pt.tar.bz2': ['how2-300h-v1/data/dev5/text.id.pt',\n",
      "                                             'how2-300h-v1/data/dev5/text.pt',\n",
      "                                             'how2-300h-v1/data/train/text.id.pt',\n",
      "                                             'how2-300h-v1/data/train/text.pt',\n",
      "                                             'how2-300h-v1/data/val/text.id.pt',\n",
      "                                             'how2-300h-v1/data/val/text.pt'],\n",
      " './data/how2-dataset/tmp_video.tar': ['resnext101-action-avgpool-300h',\n",
      "                                       'resnext101-action-avgpool-300h/train.npy',\n",
      "                                       'resnext101-action-avgpool-300h/val.npy',\n",
      "                                       'resnext101-action-avgpool-300h/dev5.npy'],\n",
      " './data/how2-dataset/tmp_video_sum.tar.gz': []}\n"
     ]
    }
   ],
   "source": [
    "# Peek tarfile contents to avoid uncompressing it all\n",
    "if MAKE_DATA_LOOKUP:\n",
    "    data_dict = dict()\n",
    "    print('Creating dictionary from tarfiles...')\n",
    "    for root, dirs, files in os.walk(DATA_RELPATH, topdown=False):\n",
    "        for name in files:\n",
    "            fname = os.path.join(root, name)\n",
    "            data_dict[fname] = []\n",
    "            print(fname)\n",
    "            try:\n",
    "                with tarfile.open(fname, 'r') as archive:\n",
    "                    contents = archive.getmembers()\n",
    "                    for c in contents:\n",
    "                        data_dict[fname].append(c.name)\n",
    "            except OSError:\n",
    "                print('Too many files')\n",
    "        # print('Folders:')\n",
    "        # for name in dirs:\n",
    "        #     print(os.path.join(root, name))\n",
    "    print('Done')\n",
    "    with open('data_dict.pkl', 'wb') as f:\n",
    "        pickle.dump(data_dict, f, pickle.HIGHEST_PROTOCOL)\n",
    "    print('Saved data dictionary lookup to', os.getcwd())\n",
    "\n",
    "else:\n",
    "    try:\n",
    "        with open('data_dict.pkl', 'rb') as f:\n",
    "            data_dict = pickle.load(f)\n",
    "        print('Loaded data dictionary lookup from', os.getcwd())\n",
    "    except FileNotFoundError:\n",
    "        print('Unexisting data dictionary lookup')\n",
    "        data_dict = dict()\n",
    "\n",
    "print('Data dictionary lookup:')\n",
    "pprint.pprint(data_dict)"
   ]
  },
  {
   "cell_type": "code",
   "execution_count": null,
   "metadata": {
    "id": "08YYOS4TpblS"
   },
   "outputs": [],
   "source": []
  }
 ],
 "metadata": {
  "colab": {
   "collapsed_sections": [],
   "name": "INF634.ipynb",
   "provenance": []
  },
  "kernelspec": {
   "display_name": "Python 3",
   "language": "python",
   "name": "python3"
  },
  "language_info": {
   "codemirror_mode": {
    "name": "ipython",
    "version": 3
   },
   "file_extension": ".py",
   "mimetype": "text/x-python",
   "name": "python",
   "nbconvert_exporter": "python",
   "pygments_lexer": "ipython3",
   "version": "3.8.5"
  },
  "toc": {
   "base_numbering": 1,
   "nav_menu": {},
   "number_sections": true,
   "sideBar": true,
   "skip_h1_title": false,
   "title_cell": "Table of Contents",
   "title_sidebar": "Contents",
   "toc_cell": false,
   "toc_position": {},
   "toc_section_display": true,
   "toc_window_display": false
  }
 },
 "nbformat": 4,
 "nbformat_minor": 1
}
